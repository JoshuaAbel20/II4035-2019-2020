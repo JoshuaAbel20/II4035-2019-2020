{
 "cells": [
  {
   "cell_type": "code",
   "execution_count": null,
   "metadata": {},
   "outputs": [],
   "source": [
    "from PIL import Image \n",
    "import os"
   ]
  },
  {
   "cell_type": "code",
   "execution_count": null,
   "metadata": {},
   "outputs": [],
   "source": [
    "#Persiapan sebelum menjalankan script ini: copy file-file scan ke direktori \"../contoh-angka-dan-huruf-tulisan-tangan\""
   ]
  },
  {
   "cell_type": "code",
   "execution_count": null,
   "metadata": {},
   "outputs": [],
   "source": [
    "# referensi: https://stackoverflow.com/questions/10377998/how-can-i-iterate-over-files-in-a-given-directory\n",
    "# https://www.geeksforgeeks.org/python-pil-image-crop-method/\n",
    "directory=\"../contoh-angka-dan-huruf-tulisan-tangan\"\n",
    "output_dir=\"../image-crop\"\n",
    "\n",
    "f = open(\"prediksi-submit.csv\", \"w\") # membuat template prediksi file\n",
    "f.write(\"image_filename,output\\n\") \n",
    "for filename in os.listdir(directory):\n",
    "    if filename.endswith(\".jpg\") or filename.endswith(\".py\"): \n",
    "        \n",
    "        margin_x_min=115 # batas kiri \n",
    "        margin_x_max=2193\n",
    "        margin_y_min=481\n",
    "        margin_y_max=2793\n",
    "        x_step=(margin_x_max-margin_x_min)/10; # ada 10 kotak ke arah x\n",
    "        y_step=(margin_y_max-margin_y_min)/12; # ada 12 kotak ke arah y\n",
    "        \n",
    "        fullfilename=os.path.join(directory, filename)\n",
    "        print(os.path.join(directory, filename))    \n",
    "        im = Image.open(fullfilename) \n",
    "        split=os.path.splitext(filename)\n",
    "        print(os.path.basename(split[0]))\n",
    "        for x in range (0,10):\n",
    "            for y in range (0,12):\n",
    "#                print(x,y)\n",
    "                left=margin_x_min+x_step*x;\n",
    "                top=margin_y_min+y_step*y;\n",
    "                right=left+x_step;\n",
    "                bottom=top+y_step;\n",
    "                target_fullfilename=os.path.join(output_dir, split[0]+\"-\"+\"%02d\"%(x)+\"-\"+\"%02d\"%(y)+\".jpg\")\n",
    "                target_filename=split[0]+\"-\"+\"%02d\"%(x)+\"-\"+\"%02d\"%(y)+\".jpg\"\n",
    "                print(\"target \"+target_filename)\n",
    "                im1 = im.crop((left, top, right, bottom)) \n",
    "                # tambahkan resize sesuai dengan target ukuran file\n",
    "                newsize = (28, 28) \n",
    "                im2 = im1.resize(newsize) \n",
    "                im2.save(target_fullfilename)    \n",
    "                # tambah entry untuk contoh file prediksi\n",
    "                f.write('\"'+target_filename+\".jpg\"+'\",a\\\"'+\"\\n\") \n",
    "        continue\n",
    "    else:\n",
    "        continue\n",
    "f.close()\n",
    "        "
   ]
  },
  {
   "cell_type": "code",
   "execution_count": null,
   "metadata": {},
   "outputs": [],
   "source": []
  }
 ],
 "metadata": {
  "kernelspec": {
   "display_name": "Python [conda env:Anaconda3]",
   "language": "python",
   "name": "conda-env-Anaconda3-py"
  },
  "language_info": {
   "codemirror_mode": {
    "name": "ipython",
    "version": 3
   },
   "file_extension": ".py",
   "mimetype": "text/x-python",
   "name": "python",
   "nbconvert_exporter": "python",
   "pygments_lexer": "ipython3",
   "version": "3.6.5"
  }
 },
 "nbformat": 4,
 "nbformat_minor": 2
}
